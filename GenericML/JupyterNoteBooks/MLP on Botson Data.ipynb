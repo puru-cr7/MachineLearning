{
 "cells": [
  {
   "cell_type": "code",
   "execution_count": 10,
   "metadata": {},
   "outputs": [],
   "source": [
    "from sklearn.model_selection import train_test_split,GridSearchCV\n",
    "from sklearn.datasets import load_boston\n",
    "from sklearn.neural_network import MLPRegressor\n",
    "from sklearn.preprocessing import StandardScaler\n",
    "from sklearn.metrics import mean_squared_error\n",
    "import numpy as np\n",
    "boston=load_boston()\n",
    "X=boston.data\n",
    "y=boston.target\n",
    "X_train,X_test,y_train,y_test=train_test_split(X,y,test_size=0.3, shuffle=True)\n",
    "scaler = StandardScaler()\n",
    "scaler.fit(X_train)\n",
    "X_train = scaler.transform(X_train)\n",
    "X_test = scaler.transform(X_test)"
   ]
  },
  {
   "cell_type": "code",
   "execution_count": 21,
   "metadata": {},
   "outputs": [
    {
     "name": "stdout",
     "output_type": "stream",
     "text": [
      "{'activation': 'relu', 'alpha': 0.0001, 'batch_size': 'auto', 'hidden_layer_sizes': 8, 'learning_rate': 'constant', 'learning_rate_init': 0.001, 'max_iter': 600, 'solver': 'lbfgs'}\n",
      "0.8144942673711828\n",
      "Train MSE: 3.68\n",
      "Test MSE: 19.81\n"
     ]
    }
   ],
   "source": [
    "tuned_parameters = [{'hidden_layer_sizes': [1,2,3,4,5,6,7,8,9,10,20,30,40],\n",
    "'activation': ['relu'],\n",
    "'solver':['lbfgs'], 'alpha':[0.0001],\n",
    "'batch_size':['auto'], 'learning_rate':['constant'],\n",
    "'learning_rate_init':[0.001], 'max_iter':[600]}]\n",
    "rgr = GridSearchCV(MLPRegressor(), tuned_parameters, cv=5)\n",
    "rgr.fit(X_train, y_train)\n",
    " \n",
    "train_mse = mean_squared_error(y_train, rgr.predict(X_train))\n",
    "test_mse = mean_squared_error(y_test, rgr.predict(X_test))\n",
    " \n",
    "print(rgr.best_params_)\n",
    "print(rgr.best_score_)\n",
    "print(\"Train MSE:\", np.round(train_mse,2))\n",
    "print(\"Test MSE:\", np.round(test_mse,2))"
   ]
  },
  {
   "cell_type": "code",
   "execution_count": 22,
   "metadata": {},
   "outputs": [
    {
     "data": {
      "text/html": [
       "<iframe id=\"igraph\" scrolling=\"no\" style=\"border:none;\" seamless=\"seamless\" src=\"https://plot.ly/~puru_cr7/9.embed\" height=\"525px\" width=\"100%\"></iframe>"
      ],
      "text/plain": [
       "<plotly.tools.PlotlyDisplay object>"
      ]
     },
     "execution_count": 22,
     "metadata": {},
     "output_type": "execute_result"
    }
   ],
   "source": [
    "import plotly.plotly as py\n",
    "import plotly.graph_objs as go\n",
    "trace = go.Scatter(\n",
    "    x = y_test,\n",
    "    y = rgr.predict(X_test),\n",
    "    mode = 'markers',\n",
    "    name=\"Predicted vs Actual\"\n",
    ")\n",
    "trace1 = go.Scatter(\n",
    "    name=\"Best Fit\",\n",
    "    x = y_test,\n",
    "    y = y_test,\n",
    "    line = dict(\n",
    "        color = ('rgb(0, 0, 0)'),\n",
    "        width = 4,\n",
    "        dash = 'dash')\n",
    ")\n",
    "data1 = [trace,trace1]\n",
    "\n",
    "# Plot and embed in ipython notebook!\n",
    "py.iplot(data1, filename='basic-scatter')"
   ]
  },
  {
   "cell_type": "code",
   "execution_count": null,
   "metadata": {},
   "outputs": [],
   "source": []
  }
 ],
 "metadata": {
  "kernelspec": {
   "display_name": "Python 3",
   "language": "python",
   "name": "python3"
  },
  "language_info": {
   "codemirror_mode": {
    "name": "ipython",
    "version": 3
   },
   "file_extension": ".py",
   "mimetype": "text/x-python",
   "name": "python",
   "nbconvert_exporter": "python",
   "pygments_lexer": "ipython3",
   "version": "3.6.5"
  }
 },
 "nbformat": 4,
 "nbformat_minor": 2
}
